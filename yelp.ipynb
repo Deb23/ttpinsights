{
 "cells": [
  {
   "cell_type": "code",
   "execution_count": 88,
   "metadata": {},
   "outputs": [],
   "source": [
    "import pandas as pd\n",
    "import csv\n",
    "from bs4 import BeautifulSoup as bs\n",
    "import re\n",
    "import requests\n",
    "import datetime as dt\n",
    "import time"
   ]
  },
  {
   "cell_type": "code",
   "execution_count": 89,
   "metadata": {},
   "outputs": [],
   "source": [
    "def parse_definition(regex_pattern, string):\n",
    "    result = re.compile(regex_pattern, flags=re.MULTILINE|re.DOTALL)\n",
    "    if not result.search(string):\n",
    "        return \"None\"\n",
    "    else:\n",
    "        return result.search(string).group(1)"
   ]
  },
  {
   "cell_type": "code",
   "execution_count": 119,
   "metadata": {},
   "outputs": [],
   "source": [
    "url = \"https://www.yelp.com/biz/kempt-mens-hair-irvine-2?osq=kempt\""
   ]
  },
  {
   "cell_type": "code",
   "execution_count": 125,
   "metadata": {},
   "outputs": [],
   "source": [
    "my_dict = {\"user\": [],\n",
    "            \"body_review\": [],\n",
    "            \"rating\": [],\n",
    "            \"possible_rating\": [],\n",
    "            \"location\": [],\n",
    "            \"date_review\": [],\n",
    "            \"useful\": [],\n",
    "            \"id_review\": [],\n",
    "            \"source\": []}"
   ]
  },
  {
   "cell_type": "code",
   "execution_count": 126,
   "metadata": {},
   "outputs": [],
   "source": [
    "response = requests.get(url)\n",
    "soup = bs(response.text, 'html.parser')\n",
    "reviews_per_page = 20\n",
    "total_reviews = int(parse_definition('\\\\{\\\"reviewCount\\\": (\\\\d+),', response.text))\n",
    "max_pages_to_scrape = int((total_reviews / reviews_per_page) + 1)\n",
    "yelp_reviews = soup.find_all(\"div\", attrs={'class': 'review review--with-sidebar'})\n",
    "store_name = soup.find(\"h1\", attrs={'class':'biz-page-title'}).text.strip()\n",
    "review_pages = 0"
   ]
  },
  {
   "cell_type": "code",
   "execution_count": 122,
   "metadata": {
    "scrolled": false
   },
   "outputs": [
    {
     "name": "stdout",
     "output_type": "stream",
     "text": [
      "70\n",
      "4\n"
     ]
    }
   ],
   "source": [
    "print(total_reviews)\n",
    "print(max_pages_to_scrape)"
   ]
  },
  {
   "cell_type": "code",
   "execution_count": 127,
   "metadata": {},
   "outputs": [
    {
     "name": "stdout",
     "output_type": "stream",
     "text": [
      "1\n",
      "2\n",
      "3\n"
     ]
    }
   ],
   "source": [
    "while review_pages < max_pages_to_scrape:\n",
    "    yelp_reviews = soup.find_all(\"div\", attrs={'class': 'review review--with-sidebar'})\n",
    "    #looping through each review to get the content\n",
    "    for i in yelp_reviews:\n",
    "        user = i.find('a', attrs={'id':'dropdown_user-name'}).text    \n",
    "        body_review = i.find(\"p\", attrs={'lang':'en'}).text  \n",
    "        rating = parse_definition('i-stars i-stars--regular-[^\\\"]+\\\" title=\\\"([\\d\\\\.]+)[^\\\"]+\\\"', str(i))    \n",
    "        location = i.select(\".user-location > b\")[0].text    \n",
    "        date_review = parse_definition(\"<span class=\\\"rating-qualifier\\\">\\s*([\\d\\\\/]+)[^<]+<\", str(i))\n",
    "        useful = parse_definition('Useful<\\\\/span>\\\\s*<span class=\\\"count\\\">(\\\\d+)<', str(i))    \n",
    "        id_review = parse_definition('data-review-id=\\\"([^\\\"]+)\\\"', str(i))\n",
    "\n",
    "        if id_review in my_dict[\"id_review\"]:\n",
    "            pass\n",
    "\n",
    "        my_dict[\"user\"].append(user)\n",
    "        my_dict[\"body_review\"].append(body_review)\n",
    "        my_dict[\"rating\"].append(float(rating))\n",
    "        my_dict[\"possible_rating\"].append(5.0)\n",
    "        my_dict[\"location\"].append(location)\n",
    "        my_dict[\"date_review\"].append(date_review)\n",
    "        my_dict[\"useful\"].append(useful)\n",
    "        my_dict[\"id_review\"].append(id_review)\n",
    "        my_dict[\"source\"].append(\"yelp\")\n",
    "    \n",
    "    try:\n",
    "        next_page_url = soup.find(\"a\", class_=\"u-decoration-none next pagination-links_anchor\").attrs['href']\n",
    "        time.sleep(3)\n",
    "        response = requests.get(next_page_url)\n",
    "        soup = bs(response.text, 'html.parser')\n",
    "        review_pages+=1\n",
    "        print(review_pages)\n",
    "    except:\n",
    "        break"
   ]
  },
  {
   "cell_type": "code",
   "execution_count": 128,
   "metadata": {},
   "outputs": [
    {
     "data": {
      "text/plain": [
       "70"
      ]
     },
     "execution_count": 128,
     "metadata": {},
     "output_type": "execute_result"
    }
   ],
   "source": [
    "# Checking how many users\n",
    "# Length should match total_reviews\n",
    "len(my_dict[\"user\"])"
   ]
  },
  {
   "cell_type": "code",
   "execution_count": 129,
   "metadata": {},
   "outputs": [],
   "source": [
    "yelp_reviews_df = pd.DataFrame(my_dict)"
   ]
  },
  {
   "cell_type": "code",
   "execution_count": 130,
   "metadata": {},
   "outputs": [],
   "source": [
    "yelp_reviews_df.to_csv(f\"reviews/{store_name.replace(' ','_')}.csv\", encoding='utf-8')"
   ]
  }
 ],
 "metadata": {
  "kernelspec": {
   "display_name": "Python 3",
   "language": "python",
   "name": "python3"
  },
  "language_info": {
   "codemirror_mode": {
    "name": "ipython",
    "version": 3
   },
   "file_extension": ".py",
   "mimetype": "text/x-python",
   "name": "python",
   "nbconvert_exporter": "python",
   "pygments_lexer": "ipython3",
   "version": "3.6.5"
  }
 },
 "nbformat": 4,
 "nbformat_minor": 2
}
