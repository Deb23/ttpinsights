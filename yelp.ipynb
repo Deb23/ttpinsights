{
 "cells": [
  {
   "cell_type": "code",
   "execution_count": 12,
   "metadata": {},
   "outputs": [],
   "source": [
    "import pandas as pd\n",
    "import csv\n",
    "from bs4 import BeautifulSoup as bs\n",
    "import re\n",
    "import requests\n",
    "import datetime as dt\n",
    "import time"
   ]
  },
  {
   "cell_type": "code",
   "execution_count": 13,
   "metadata": {},
   "outputs": [],
   "source": [
    "\"\"\"\n",
    "This function is to parse out content using a regular expression pattern from a string.\n",
    "<param>regex_pattern</param>\n",
    "<param>string</param>\n",
    "\"\"\"\n",
    "\n",
    "def parse_definition(regex_pattern, string):\n",
    "    result = re.compile(regex_pattern, flags=re.MULTILINE|re.DOTALL)\n",
    "    # Checking if the patten works for the string\n",
    "    if not result.search(string):\n",
    "        return \"None\"\n",
    "    else:\n",
    "        return result.search(string).group(1)"
   ]
  },
  {
   "cell_type": "code",
   "execution_count": 14,
   "metadata": {},
   "outputs": [],
   "source": [
    "# Example store\n",
    "url = \"https://www.yelp.com/biz/kempt-mens-hair-irvine-2?osq=kempt\""
   ]
  },
  {
   "cell_type": "code",
   "execution_count": 15,
   "metadata": {},
   "outputs": [],
   "source": [
    "my_dict = {\"user\": [],\n",
    "            \"body_review\": [],\n",
    "            \"rating\": [],\n",
    "            \"possible_rating\": [],\n",
    "            \"location\": [],\n",
    "            \"date_review\": [],\n",
    "            \"useful\": [],\n",
    "            \"id_review\": [],\n",
    "            \"source\": []}"
   ]
  },
  {
   "cell_type": "code",
   "execution_count": 16,
   "metadata": {},
   "outputs": [],
   "source": [
    "#Grabbing HTML content\n",
    "response = requests.get(url)\n",
    "soup = bs(response.text, 'html.parser')\n",
    "reviews_per_page = 20\n",
    "total_reviews = int(parse_definition('\\\\{\\\"reviewCount\\\": (\\\\d+),', response.text))\n",
    "max_pages_to_scrape = int((total_reviews / reviews_per_page) + 1)\n",
    "yelp_reviews = soup.find_all(\"div\", attrs={'class': 'review review--with-sidebar'})\n",
    "store_name = soup.find(\"h1\", attrs={'class':'biz-page-title'}).text.strip()\n",
    "review_pages = 1"
   ]
  },
  {
   "cell_type": "code",
   "execution_count": 18,
   "metadata": {
    "scrolled": false
   },
   "outputs": [
    {
     "name": "stdout",
     "output_type": "stream",
     "text": [
      "Total Reviews: 70\n",
      "Expected Review Pages: 4\n"
     ]
    }
   ],
   "source": [
    "print(f\"Total Reviews: {total_reviews}\")\n",
    "print(f\"Expected Review Pages: {max_pages_to_scrape}\")"
   ]
  },
  {
   "cell_type": "code",
   "execution_count": 19,
   "metadata": {},
   "outputs": [
    {
     "name": "stdout",
     "output_type": "stream",
     "text": [
      "Review Page: 1\n",
      "Review Page: 2\n",
      "Review Page: 3\n",
      "Review Page: 4\n"
     ]
    }
   ],
   "source": [
    "while review_pages <= max_pages_to_scrape:\n",
    "    print(f\"Review Page: {review_pages}\")\n",
    "    yelp_reviews = soup.find_all(\"div\", attrs={'class': 'review review--with-sidebar'})\n",
    "    #looping through each review to get the content\n",
    "    for i in yelp_reviews:\n",
    "        user = i.find('a', attrs={'id':'dropdown_user-name'}).text    \n",
    "        body_review = i.find(\"p\", attrs={'lang':'en'}).text  \n",
    "        rating = parse_definition('i-stars i-stars--regular-[^\\\"]+\\\" title=\\\"([\\d\\\\.]+)[^\\\"]+\\\"', str(i))    \n",
    "        location = i.select(\".user-location > b\")[0].text    \n",
    "        date_review = parse_definition(\"<span class=\\\"rating-qualifier\\\">\\s*([\\d\\\\/]+)[^<]+<\", str(i))\n",
    "        useful = parse_definition('Useful<\\\\/span>\\\\s*<span class=\\\"count\\\">(\\\\d+)<', str(i))    \n",
    "        id_review = parse_definition('data-review-id=\\\"([^\\\"]+)\\\"', str(i))\n",
    "\n",
    "        if id_review in my_dict[\"id_review\"]:\n",
    "            pass\n",
    "\n",
    "        my_dict[\"user\"].append(user)\n",
    "        my_dict[\"body_review\"].append(body_review)\n",
    "        my_dict[\"rating\"].append(float(rating))\n",
    "        my_dict[\"possible_rating\"].append(5.0)\n",
    "        my_dict[\"location\"].append(location)\n",
    "        my_dict[\"date_review\"].append(date_review)\n",
    "        my_dict[\"useful\"].append(useful)\n",
    "        my_dict[\"id_review\"].append(id_review)\n",
    "        my_dict[\"source\"].append(\"yelp\")\n",
    "        \n",
    "       \n",
    "    try:\n",
    "        review_pages+=1\n",
    "        next_page_url = soup.find(\"a\", class_=\"u-decoration-none next pagination-links_anchor\").attrs['href']\n",
    "        # Sleep for 3 seconds to avoid blocks\n",
    "        time.sleep(3)\n",
    "        response = requests.get(next_page_url)\n",
    "        soup = bs(response.text, 'html.parser')\n",
    "    except:\n",
    "        break"
   ]
  },
  {
   "cell_type": "code",
   "execution_count": 20,
   "metadata": {},
   "outputs": [
    {
     "name": "stdout",
     "output_type": "stream",
     "text": [
      "Scrape completed! Length of users, 70, matches with the total reviews, 70.\n"
     ]
    }
   ],
   "source": [
    "# Checking how many users\n",
    "# Length should match total_reviews\n",
    "users = my_dict[\"user\"]\n",
    "if len(users) != total_reviews:\n",
    "    print(f\"Please check crawler. Length of users, {len(users)}, don't match total reviews, {total_reviews}.\")\n",
    "else:\n",
    "    print(f\"Scrape completed! Length of users, {len(users)}, matches with the total reviews, {total_reviews}.\")"
   ]
  },
  {
   "cell_type": "code",
   "execution_count": 23,
   "metadata": {
    "scrolled": true
   },
   "outputs": [
    {
     "data": {
      "text/html": [
       "<div>\n",
       "<style scoped>\n",
       "    .dataframe tbody tr th:only-of-type {\n",
       "        vertical-align: middle;\n",
       "    }\n",
       "\n",
       "    .dataframe tbody tr th {\n",
       "        vertical-align: top;\n",
       "    }\n",
       "\n",
       "    .dataframe thead th {\n",
       "        text-align: right;\n",
       "    }\n",
       "</style>\n",
       "<table border=\"1\" class=\"dataframe\">\n",
       "  <thead>\n",
       "    <tr style=\"text-align: right;\">\n",
       "      <th></th>\n",
       "      <th>body_review</th>\n",
       "      <th>date_review</th>\n",
       "      <th>id_review</th>\n",
       "      <th>location</th>\n",
       "      <th>possible_rating</th>\n",
       "      <th>rating</th>\n",
       "      <th>source</th>\n",
       "      <th>useful</th>\n",
       "      <th>user</th>\n",
       "    </tr>\n",
       "  </thead>\n",
       "  <tbody>\n",
       "    <tr>\n",
       "      <th>0</th>\n",
       "      <td>I've been waiting for my 3rd cut to post this,...</td>\n",
       "      <td>5/30/2018</td>\n",
       "      <td>VQhZMCY6b7jKyr-HDbrRaQ</td>\n",
       "      <td>Irvine, CA</td>\n",
       "      <td>5.0</td>\n",
       "      <td>5.0</td>\n",
       "      <td>yelp</td>\n",
       "      <td>None</td>\n",
       "      <td>Brian L.</td>\n",
       "    </tr>\n",
       "    <tr>\n",
       "      <th>1</th>\n",
       "      <td>I have been to KEMPT twice and both experience...</td>\n",
       "      <td>5/2/2018</td>\n",
       "      <td>jaL8RSQ0SsxagLiNq0G1Pg</td>\n",
       "      <td>Irvine, CA</td>\n",
       "      <td>5.0</td>\n",
       "      <td>4.0</td>\n",
       "      <td>yelp</td>\n",
       "      <td>None</td>\n",
       "      <td>Daniel E.</td>\n",
       "    </tr>\n",
       "    <tr>\n",
       "      <th>2</th>\n",
       "      <td>I went on yelp, messaged 3 different salons an...</td>\n",
       "      <td>4/27/2018</td>\n",
       "      <td>O2hNoxxyvwPONcWoWkBp0w</td>\n",
       "      <td>Santa Ana, CA</td>\n",
       "      <td>5.0</td>\n",
       "      <td>5.0</td>\n",
       "      <td>yelp</td>\n",
       "      <td>None</td>\n",
       "      <td>jesse n.</td>\n",
       "    </tr>\n",
       "    <tr>\n",
       "      <th>3</th>\n",
       "      <td>Found this place for my boyfriend and let me t...</td>\n",
       "      <td>6/14/2018</td>\n",
       "      <td>7b-FVnYllrQGBbivJlP4UQ</td>\n",
       "      <td>Irvine, CA</td>\n",
       "      <td>5.0</td>\n",
       "      <td>5.0</td>\n",
       "      <td>yelp</td>\n",
       "      <td>None</td>\n",
       "      <td>Olivia C.</td>\n",
       "    </tr>\n",
       "    <tr>\n",
       "      <th>4</th>\n",
       "      <td>Well i feel really satisfied with my new hair ...</td>\n",
       "      <td>6/15/2018</td>\n",
       "      <td>8xg0pEpGQU1L8sNH2s6LCg</td>\n",
       "      <td>Westminster, CA</td>\n",
       "      <td>5.0</td>\n",
       "      <td>5.0</td>\n",
       "      <td>yelp</td>\n",
       "      <td>None</td>\n",
       "      <td>José A.</td>\n",
       "    </tr>\n",
       "  </tbody>\n",
       "</table>\n",
       "</div>"
      ],
      "text/plain": [
       "                                         body_review date_review  \\\n",
       "0  I've been waiting for my 3rd cut to post this,...   5/30/2018   \n",
       "1  I have been to KEMPT twice and both experience...    5/2/2018   \n",
       "2  I went on yelp, messaged 3 different salons an...   4/27/2018   \n",
       "3  Found this place for my boyfriend and let me t...   6/14/2018   \n",
       "4  Well i feel really satisfied with my new hair ...   6/15/2018   \n",
       "\n",
       "                id_review         location  possible_rating  rating source  \\\n",
       "0  VQhZMCY6b7jKyr-HDbrRaQ       Irvine, CA              5.0     5.0   yelp   \n",
       "1  jaL8RSQ0SsxagLiNq0G1Pg       Irvine, CA              5.0     4.0   yelp   \n",
       "2  O2hNoxxyvwPONcWoWkBp0w    Santa Ana, CA              5.0     5.0   yelp   \n",
       "3  7b-FVnYllrQGBbivJlP4UQ       Irvine, CA              5.0     5.0   yelp   \n",
       "4  8xg0pEpGQU1L8sNH2s6LCg  Westminster, CA              5.0     5.0   yelp   \n",
       "\n",
       "  useful       user  \n",
       "0   None   Brian L.  \n",
       "1   None  Daniel E.  \n",
       "2   None   jesse n.  \n",
       "3   None  Olivia C.  \n",
       "4   None    José A.  "
      ]
     },
     "execution_count": 23,
     "metadata": {},
     "output_type": "execute_result"
    }
   ],
   "source": [
    "yelp_reviews_df = pd.DataFrame(my_dict)\n",
    "yelp_reviews_df.head()"
   ]
  },
  {
   "cell_type": "code",
   "execution_count": 22,
   "metadata": {},
   "outputs": [],
   "source": [
    "# Saving into a csv file\n",
    "yelp_reviews_df.to_csv(f\"reviews/{store_name.replace(' ','_')}.csv\", encoding='utf-8')"
   ]
  }
 ],
 "metadata": {
  "kernelspec": {
   "display_name": "Python 3",
   "language": "python",
   "name": "python3"
  },
  "language_info": {
   "codemirror_mode": {
    "name": "ipython",
    "version": 3
   },
   "file_extension": ".py",
   "mimetype": "text/x-python",
   "name": "python",
   "nbconvert_exporter": "python",
   "pygments_lexer": "ipython3",
   "version": "3.6.5"
  }
 },
 "nbformat": 4,
 "nbformat_minor": 2
}
